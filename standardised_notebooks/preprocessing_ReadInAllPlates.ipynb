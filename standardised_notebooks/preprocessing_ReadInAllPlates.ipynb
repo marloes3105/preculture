{
 "cells": [
  {
   "cell_type": "markdown",
   "metadata": {},
   "source": [
    "# Import dependencies"
   ]
  },
  {
   "cell_type": "code",
   "execution_count": 1,
   "metadata": {},
   "outputs": [],
   "source": [
    "import sys, os\n",
    "from pandas.io.parsers import read_csv\n",
    "import numpy as np\n",
    "import pandas as pd\n",
    "import collections\n",
    "import scipy"
   ]
  },
  {
   "cell_type": "markdown",
   "metadata": {},
   "source": [
    "# All functions"
   ]
  },
  {
   "cell_type": "markdown",
   "metadata": {},
   "source": [
    "First we make a dictionary containing information of all plates and all gastruloids within those plates. "
   ]
  },
  {
   "cell_type": "markdown",
   "metadata": {},
   "source": [
    "We can use this dictionary to change all names correctly. Names should be as follows: plateName_cellNumber.gastruloidName. \n",
    "We need to make a dictionary to correctly assign all cells to the correct gastruloids: some plates contain cells from multiple gastruloids."
   ]
  },
  {
   "cell_type": "code",
   "execution_count": 2,
   "metadata": {},
   "outputs": [],
   "source": [
    "# plates go from 1 until 384. for 1-384: range(1,385)\n",
    "def gastruloidDictionary (plateName,gastruloidName,lower,upper):\n",
    "    dictGastruloidNames = {}\n",
    "    for cellnumber in list(range(lower,upper)):\n",
    "        oldname = (plateName+'_') + str(cellnumber)\n",
    "        newname = oldname + '.' + gastruloidName\n",
    "        dictGastruloidNames[oldname] = newname\n",
    "    return dictGastruloidNames  "
   ]
  },
  {
   "cell_type": "markdown",
   "metadata": {},
   "source": [
    "First define the path to all .csv files, this is used by the function to retrieve the files."
   ]
  },
  {
   "cell_type": "code",
   "execution_count": 3,
   "metadata": {},
   "outputs": [],
   "source": [
    "pathToData = '/Users/m.blotenburg/Documents/Projects/Lianne/data/'"
   ]
  },
  {
   "cell_type": "code",
   "execution_count": 4,
   "metadata": {},
   "outputs": [],
   "source": [
    "def readInTransPlate(pathToFile, plateName,dictGastruloidNames):\n",
    "    transPlate = read_csv((pathToData + pathToFile),sep = ',', low_memory=False, index_col=(0,1))\n",
    "    transPlate = transPlate.loc[[idx for idx in transPlate.index if 'Unknown'!=idx]]\n",
    "    transPlate = transPlate.iloc[1:]\n",
    "    transPlate.columns = transPlate.columns.str.replace((transPlate.columns[0].rsplit('_',1)[0] + '_'), (plateName + '_'))\n",
    "\n",
    "    transPlate = transPlate.rename(index=str, columns=dictGastruloidNames) \n",
    "    transPlate.index = [f'{gene}_{chrom}' for gene,chrom in transPlate.index]\n",
    "    transPlate = transPlate[sorted(transPlate.columns)]\n",
    "    return transPlate"
   ]
  },
  {
   "cell_type": "markdown",
   "metadata": {},
   "source": [
    "# Dataset: Medium and matrigel gastruloids"
   ]
  },
  {
   "cell_type": "markdown",
   "metadata": {},
   "source": [
    "Overview of gastruloids in this dataset:\n",
    "\n",
    "Conditions | plates \n",
    "---|---\n",
    "Pooled medium gastruloids | 1,2,3\n",
    "Single medium gastruloid A | 4\n",
    "Single medium gastruloid B | 5\n",
    "Pooled matrigel gastruloids | 6,7,8\n",
    "Single matrigel gastruloid A | 9\n",
    "Single matrigel gastruloid B | 10"
   ]
  },
  {
   "cell_type": "markdown",
   "metadata": {},
   "source": [
    "### Make a dictionary of all gastruloid names"
   ]
  },
  {
   "cell_type": "markdown",
   "metadata": {},
   "source": [
    "First we add all plates that contain just one gastruloid to a dictionary.\n",
    "Then we just have to add the plates that contain multiple gastruloids."
   ]
  },
  {
   "cell_type": "code",
   "execution_count": 5,
   "metadata": {},
   "outputs": [],
   "source": [
    "dictg1 = gastruloidDictionary('g1','g-D2_con6',1,385)\n",
    "dictg2 = gastruloidDictionary('g2','g-C1_con6',1,385)\n",
    "dictg3 = gastruloidDictionary('g3','g-F2_con6',1,385)\n",
    "dictg4 = gastruloidDictionary('g4','g-B3_con5',1,385)\n",
    "dictg5 = gastruloidDictionary('g5','g-C3_con5',1,385)\n",
    "dictg6 = gastruloidDictionary('g6','g-D2_con5',1,385)\n",
    "dictg7 = gastruloidDictionary('g7','g-F1_con5',1,385)\n",
    "dictg8 = gastruloidDictionary('g8','g-C2_con5',1,385)\n",
    "dictg9 = gastruloidDictionary('g9','g-A1_con1',1,385)\n",
    "dictg10 = gastruloidDictionary('g10','g-B2_con1',1,385)\n",
    "dictg11 = gastruloidDictionary('g11','g-C1b_con1',1,385)\n",
    "dictg12 = gastruloidDictionary('g12','g-H3_con1',1,385)\n",
    "dictg13 = gastruloidDictionary('g13','g-F4_con1',1,385)\n",
    "dictg14 = gastruloidDictionary('g14','g-G2_con6',1,385)\n",
    "dictg15 = gastruloidDictionary('g15','g-H2_con6',1,385)\n",
    "\n",
    "dicte1 = gastruloidDictionary('e1','m-ESC_con1',1,385)\n",
    "dicte2 = gastruloidDictionary('e2','m-ESC_con1',1,385)\n",
    "dicte3 = gastruloidDictionary('e3','m-ESC_con2',1,385)\n",
    "dicte4 = gastruloidDictionary('e4','m-ESC_con2',1,385)\n",
    "dicte5 = gastruloidDictionary('e5','m-ESC_con3',1,385)\n",
    "dicte6 = gastruloidDictionary('e6','m-ESC_con3',1,385)\n",
    "dicte7 = gastruloidDictionary('e7','m-ESC_con4',1,385)\n",
    "dicte8 = gastruloidDictionary('e8','m-ESC_con4',1,385)\n",
    "dicte9 = gastruloidDictionary('e9','m-ESC_con5',1,385)\n",
    "dicte10 = gastruloidDictionary('e10','m-ESC_con5',1,385)\n",
    "dicte11 = gastruloidDictionary('e11','m-ESC_con6',1,385)\n",
    "dicte12 = gastruloidDictionary('e12','m-ESC_con6',1,385)\n"
   ]
  },
  {
   "cell_type": "markdown",
   "metadata": {},
   "source": [
    "Now we can add all dictionaries together in one final dictionary."
   ]
  },
  {
   "cell_type": "code",
   "execution_count": 6,
   "metadata": {},
   "outputs": [],
   "source": [
    "alldicts = [dictg1, dictg2, dictg3,\n",
    "            dictg4,dictg5,dictg6,dictg7,dictg8,dictg9,dictg10,dictg11,\n",
    "            dictg12,dictg13,dictg14,dictg15,\n",
    "            dicte1, dicte2, dicte3,dicte4, dicte5, dicte6, dicte7, dicte8, \n",
    "            dicte9, dicte10, dicte11, dicte12]"
   ]
  },
  {
   "cell_type": "code",
   "execution_count": 7,
   "metadata": {},
   "outputs": [],
   "source": [
    "finaldictionary = {}\n",
    "for dicts in alldicts:\n",
    "    finaldictionary.update(dicts)\n",
    "    "
   ]
  },
  {
   "cell_type": "markdown",
   "metadata": {},
   "source": [
    "## Import and process all dataframes"
   ]
  },
  {
   "cell_type": "markdown",
   "metadata": {},
   "source": [
    "Define the full path for each plate."
   ]
  },
  {
   "cell_type": "code",
   "execution_count": 8,
   "metadata": {},
   "outputs": [],
   "source": [
    "pathg1 = 'LS-gastruloids-plate1-con6-D2/count_table_deduplicated.csv'\n",
    "pathg2 = 'LS-gastruloids-plate2-con6-C1/count_table_deduplicated.csv'\n",
    "pathg3 = 'LS-gastruloids-plate3-con6-F2/count_table_deduplicated.csv'\n",
    "pathg4 = 'LS-gastruloids-plate4-con5-B3/count_table_deduplicated.csv'\n",
    "pathg5 = 'LS-gastruloids-plate5-con5-C3/count_table_deduplicated.csv'\n",
    "pathg6 = 'LS-gastruloids-plate6-con5-D2/count_table_deduplicated.csv'\n",
    "pathg7 = 'LS-gastruloids-plate7-con5-F1/count_table_deduplicated.csv'\n",
    "pathg8 = 'LS-gastruloids-plate8-con5-C2/count_table_deduplicated.csv'\n",
    "pathg9 = 'LS-gastruloids-plate9-con1-A1/count_table_deduplicated.csv'\n",
    "pathg10 = 'LS-gastruloids-plate10-con1-B2/count_table_deduplicated.csv'\n",
    "pathg11 = 'LS-gastruloids-plate11-con1-C1/count_table_deduplicated.csv'\n",
    "pathg12 = 'LS-gastruloids-plate12-con1-H3/count_table_deduplicated.csv'\n",
    "pathg13 = 'LS-gastruloids-plate13-con1-F4/count_table_deduplicated.csv'\n",
    "pathg14 = 'LS-gastruloids-plate14-con6-G2/count_table_deduplicated.csv'\n",
    "pathg15 = 'LS-gastruloids-plate15-con6-H2/count_table_deduplicated.csv'\n",
    "\n",
    "pathe1 = '../2022_Exp_Marloes/cluster/cs2/mESC/processed/MB-mESCs-plate1-con1/count_table_deduplicated.csv'\n",
    "pathe2 = '../2022_Exp_Marloes/cluster/cs2/mESC/processed/MB-mESCs-plate2-con1/count_table_deduplicated.csv'\n",
    "pathe3 = '../2022_Exp_Marloes/cluster/cs2/mESC/processed/MB-mESCs-plate3-con2/count_table_deduplicated.csv'\n",
    "pathe4 = '../2022_Exp_Marloes/cluster/cs2/mESC/processed/MB-mESCs-plate4-con2/count_table_deduplicated.csv'\n",
    "pathe5 = '../2022_Exp_Marloes/cluster/cs2/mESC/processed/MB-mESCs-plate5-con3/count_table_deduplicated.csv'\n",
    "pathe6 = '../2022_Exp_Marloes/cluster/cs2/mESC/processed/MB-mESCs-plate6-con3/count_table_deduplicated.csv'\n",
    "pathe7 = '../2022_Exp_Marloes/cluster/cs2/mESC/processed/MB-mESCs-plate7-con4/count_table_deduplicated.csv'\n",
    "pathe8 = '../2022_Exp_Marloes/cluster/cs2/mESC/processed/MB-mESCs-plate8-con4/count_table_deduplicated.csv'\n",
    "pathe9 = '../2022_Exp_Marloes/cluster/cs2/mESC/processed/MB-mESCs-plate9-con5/count_table_deduplicated.csv'\n",
    "pathe10 = '../2022_Exp_Marloes/cluster/cs2/mESC/processed/MB-mESCs-plate10-con5/count_table_deduplicated.csv'\n",
    "pathe11 = '../2022_Exp_Marloes/cluster/cs2/mESC/processed/MB-mESCs-plate11-con6/count_table_deduplicated.csv'\n",
    "pathe12 = '../2022_Exp_Marloes/cluster/cs2/mESC/processed/MB-mESCs-plate12-con6/count_table_deduplicated.csv'"
   ]
  },
  {
   "cell_type": "markdown",
   "metadata": {},
   "source": [
    "Read in and process all plates."
   ]
  },
  {
   "cell_type": "code",
   "execution_count": 9,
   "metadata": {},
   "outputs": [],
   "source": [
    "g1 = readInTransPlate(pathg1, 'g1', finaldictionary)\n",
    "g2 = readInTransPlate(pathg2, 'g2', finaldictionary)\n",
    "g3 = readInTransPlate(pathg3, 'g3', finaldictionary)\n",
    "g4 = readInTransPlate(pathg4, 'g4', finaldictionary)\n",
    "g5 = readInTransPlate(pathg5, 'g5', finaldictionary)\n",
    "g6 = readInTransPlate(pathg6, 'g6', finaldictionary)\n",
    "g7 = readInTransPlate(pathg7, 'g7', finaldictionary)\n",
    "g8 = readInTransPlate(pathg8, 'g8', finaldictionary)\n",
    "g9 = readInTransPlate(pathg9, 'g9', finaldictionary)\n",
    "g10 = readInTransPlate(pathg10, 'g10', finaldictionary)\n",
    "g11 = readInTransPlate(pathg11, 'g11', finaldictionary)\n",
    "g12 = readInTransPlate(pathg12, 'g12', finaldictionary)\n",
    "g13 = readInTransPlate(pathg13, 'g13', finaldictionary)\n",
    "g14 = readInTransPlate(pathg14, 'g14', finaldictionary)\n",
    "g15 = readInTransPlate(pathg15, 'g15', finaldictionary)\n",
    "\n",
    "pe1 = readInTransPlate(pathe1, 'e1', finaldictionary)\n",
    "pe2 = readInTransPlate(pathe2, 'e2', finaldictionary)\n",
    "pe3 = readInTransPlate(pathe3, 'e3', finaldictionary)\n",
    "pe4 = readInTransPlate(pathe4, 'e4', finaldictionary)\n",
    "pe5 = readInTransPlate(pathe5, 'e5', finaldictionary)\n",
    "pe6 = readInTransPlate(pathe6, 'e6', finaldictionary)\n",
    "pe7 = readInTransPlate(pathe7, 'e7', finaldictionary)\n",
    "pe8 = readInTransPlate(pathe8, 'e8', finaldictionary)\n",
    "pe9 = readInTransPlate(pathe9, 'e9', finaldictionary)\n",
    "pe10 = readInTransPlate(pathe10, 'e10', finaldictionary)\n",
    "pe11 = readInTransPlate(pathe11, 'e11', finaldictionary)\n",
    "pe12 = readInTransPlate(pathe12, 'e12', finaldictionary)"
   ]
  },
  {
   "cell_type": "markdown",
   "metadata": {},
   "source": [
    "### Merge dataframes"
   ]
  },
  {
   "cell_type": "code",
   "execution_count": 10,
   "metadata": {},
   "outputs": [],
   "source": [
    "#all\n",
    "ESC = [pe1,pe2,pe3,pe4,pe5,pe6,pe7,pe8,pe9,pe10,pe11,pe12]\n",
    "gastr = [g1,g2,g3,g4,g5,g6,g7,g8,g9,g10,g11,g12,g13,g14,g15]\n",
    "\n",
    "ESC_trans = ESC[0].join(ESC[1:],how='outer')\n",
    "gastr_trans = gastr[0].join(gastr[1:],how='outer')"
   ]
  },
  {
   "cell_type": "markdown",
   "metadata": {},
   "source": [
    "# Saving full dataframe"
   ]
  },
  {
   "cell_type": "code",
   "execution_count": 12,
   "metadata": {},
   "outputs": [],
   "source": [
    "ESC_trans.to_pickle(pathToData + 'dataframes/20220217_all_mESCs.pickle.gz')\n",
    "gastr_trans.to_pickle(pathToData + 'dataframes/20201210_Lianne_gastr.pickle.gz')"
   ]
  },
  {
   "cell_type": "code",
   "execution_count": null,
   "metadata": {},
   "outputs": [],
   "source": []
  }
 ],
 "metadata": {
  "kernelspec": {
   "display_name": "Python 3 (ipykernel)",
   "language": "python",
   "name": "python3"
  },
  "language_info": {
   "codemirror_mode": {
    "name": "ipython",
    "version": 3
   },
   "file_extension": ".py",
   "mimetype": "text/x-python",
   "name": "python",
   "nbconvert_exporter": "python",
   "pygments_lexer": "ipython3",
   "version": "3.8.5"
  }
 },
 "nbformat": 4,
 "nbformat_minor": 2
}
